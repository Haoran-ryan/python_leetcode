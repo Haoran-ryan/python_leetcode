{
 "cells": [
  {
   "cell_type": "markdown",
   "metadata": {},
   "source": [
    "# Time Complexity \n",
    "## Usa: to measure the performance of constant operations \n",
    "\n",
    "### What's `constant operation`? \n",
    "1. Arithmetic operations: +, -, *, /, %, //, **\n",
    "2. Bitwise operations: &, |, ^, ~, <<, >>\n",
    "3. Boolean operations: and, or, not\n",
    "4. Comparison operations: <, <=, >, >=, ==, !=\n",
    "5. Identity operations: is, is not\n",
    "6. Membership operations: in, not in\n",
    "7. etc.\n",
    "8. 与数据量无关的操作\n",
    "\n",
    "### What's non-constant operation?\n",
    "e.g. \n",
    "1. fetch [i] in a linked list "
   ]
  }
 ],
 "metadata": {
  "language_info": {
   "name": "python"
  },
  "orig_nbformat": 4
 },
 "nbformat": 4,
 "nbformat_minor": 2
}

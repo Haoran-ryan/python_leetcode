{
 "cells": [
  {
   "cell_type": "markdown",
   "metadata": {},
   "source": [
    "# Time Complexity \n",
    "## Usa: to measure the performance of constant operations \n",
    "\n",
    "### What's `constant operation`? \n",
    "1. Arithmetic operations: +, -, *, /, %, //, **\n",
    "2. Bitwise operations: &, |, ^, ~, <<, >>\n",
    "3. Boolean operations: and, or, not\n",
    "4. Comparison operations: <, <=, >, >=, ==, !=\n",
    "5. Identity operations: is, is not\n",
    "6. Membership operations: in, not in\n",
    "7. etc.\n",
    "8. 与数据量无关的操作\n",
    "\n",
    "### What's non-constant operation?\n",
    "e.g. \n",
    "1. fetch [i] in a linked list "
   ]
  },
  {
   "cell_type": "markdown",
   "metadata": {},
   "source": [
    "# 等差数列 - 前N项和\n",
    "- 已知首选、末项、项数，求和 （倒序相加法）\n",
    "$S_n = \\frac{n \\times (a_1 + a_2)}{2}$ \n",
    "- 已知首项、项数、公差，求和\n",
    "$S_n = a_1 \\times n + \\frac{n \\times (n-1)}{2} \\times d$"
   ]
  },
  {
   "cell_type": "markdown",
   "metadata": {},
   "source": [
    "# Selection Sort \n",
    "1. works by repeatedly finding the smallest element in an array and swapping it with the first element in the array.\n",
    "2. starts at the beginning of the array and compares the first element with the remaining elements in the array. The smallest element is found and swapped with the first element.\n",
    "3. then moves on to the next element and repeats the process. This continues until the end of the array is reached."
   ]
  },
  {
   "cell_type": "code",
   "execution_count": null,
   "metadata": {},
   "outputs": [],
   "source": [
    "# 错误版本：\n",
    "def selection_sort(arr):\n",
    "    # rule out edge cases \n",
    "    if arr is None or len(arr) < 2:\n",
    "        return arr\n",
    "    # loop through the arr \n",
    "    i = 0\n",
    "    j = 1\n",
    "    while i < len(arr):\n",
    "        # assume the min value is the first element\n",
    "        min_index = i\n",
    "        while j < len(arr):\n",
    "            # any value less than the min value, update the min value\n",
    "            if(arr[j] < arr[min_index]):\n",
    "                # found new min value, update the min value\n",
    "                min_index = j\n",
    "                # swap the values \n",
    "                print('before swap: ', arr)\n",
    "                arr[i], arr[j] = arr[j], arr[i]\n",
    "                print('after swap:', arr)\n",
    "            j += 1\n",
    "        i += 1\n",
    "    print(arr)\n",
    "\n",
    "selection_sort([1, 3, 2, 5, 4])"
   ]
  },
  {
   "cell_type": "markdown",
   "metadata": {},
   "source": [
    "### 错误反思\n",
    "1. 不应该在循环中交换值\n",
    "2. j指针应该是i的后一位（最小值的下一位），所以不能初始1，后做 +=1"
   ]
  },
  {
   "cell_type": "markdown",
   "metadata": {},
   "source": [
    "# Bubble Sort \n",
    "\n",
    "1. starts at the beginning of the array and compares the first two elements. If the first element is greater than the second element, they are swapped.\n",
    "2. then moves on to the next two elements and repeats the process. This continues until the end of the array is reached.\n",
    "3. then starts over at the beginning of the array and repeats the process. This continues until the array is sorted."
   ]
  },
  {
   "cell_type": "code",
   "execution_count": 17,
   "metadata": {},
   "outputs": [
    {
     "name": "stdout",
     "output_type": "stream",
     "text": [
      "\n",
      "before swap:  [7, 5, 3, 2, 4]\n",
      "We are going to swap 7 with 5 at the index of 0 and 1\n",
      "after swap:  [5, 7, 3, 2, 4]\n",
      "\n",
      "before swap:  [5, 7, 3, 2, 4]\n",
      "We are going to swap 7 with 3 at the index of 1 and 2\n",
      "after swap:  [5, 3, 7, 2, 4]\n",
      "\n",
      "before swap:  [5, 3, 7, 2, 4]\n",
      "We are going to swap 7 with 2 at the index of 2 and 3\n",
      "after swap:  [5, 3, 2, 7, 4]\n",
      "\n",
      "before swap:  [5, 3, 2, 7, 4]\n",
      "We are going to swap 7 with 4 at the index of 3 and 4\n",
      "after swap:  [5, 3, 2, 4, 7]\n",
      "\n",
      "before swap:  [5, 3, 2, 4, 7]\n",
      "We are going to swap 5 with 3 at the index of 0 and 1\n",
      "after swap:  [3, 5, 2, 4, 7]\n",
      "\n",
      "before swap:  [3, 5, 2, 4, 7]\n",
      "We are going to swap 5 with 2 at the index of 1 and 2\n",
      "after swap:  [3, 2, 5, 4, 7]\n",
      "\n",
      "before swap:  [3, 2, 5, 4, 7]\n",
      "We are going to swap 5 with 4 at the index of 2 and 3\n",
      "after swap:  [3, 2, 4, 5, 7]\n",
      "\n",
      "before swap:  [3, 2, 4, 5, 7]\n",
      "We are going to swap 3 with 2 at the index of 0 and 1\n",
      "after swap:  [2, 3, 4, 5, 7]\n",
      "Bubble sort completed:  [2, 3, 4, 5, 7]\n"
     ]
    }
   ],
   "source": [
    "def bubble_sort(arr):\n",
    "    # edge cases\n",
    "    if arr is None or len(arr) < 2:\n",
    "        return arr\n",
    "    \"\"\"\n",
    "    Because buble sort confirms the largest element at the end of the array in each sort loop, we need to slice out the last element for the next loop.\n",
    "    \"\"\"\n",
    "    for i in range(len(arr), 0, -1):\n",
    "        for x in range(0,i-1): # i is the length of the sliced array\n",
    "            # if the current element is greater than the next element, swap them\n",
    "            if arr[x] > arr[x+1]:\n",
    "                print('\\nbefore swap: ', arr)\n",
    "                print(\"We are going to swap {} with {} at the index of {} and {}\".format(arr[x], arr[x+1],x, x+1))\n",
    "                arr[x], arr[x+1] = arr[x+1], arr[x]\n",
    "                print('after swap: ', arr)\n",
    "    print('Bubble sort completed: ', arr)\n",
    "    \n",
    "bubble_sort([7, 5, 3, 2, 4])"
   ]
  },
  {
   "cell_type": "markdown",
   "metadata": {},
   "source": [
    "# XOR Operations \n",
    "1. 可以理解为无进位相加\n",
    "2. 性质：\n",
    "    1. 任何数N和0异或，结果为N\n",
    "    2. 任何数N和自己异或，结果为0\n",
    "    3. 异或运算满足交换律和结合律，即 a^b=b^a, (a^b)^c=a^(b^c)\n",
    "    4. 异或运算满足分配律，即 a^(b^c)=(a^b)^(a^c)"
   ]
  },
  {
   "cell_type": "markdown",
   "metadata": {},
   "source": [
    " 1 + 0 = 1\n",
    " 0 + 0 = 0\n",
    " 1 + 1 = (1)0 , where one is not carried over"
   ]
  },
  {
   "cell_type": "code",
   "execution_count": 1,
   "metadata": {},
   "outputs": [
    {
     "name": "stdout",
     "output_type": "stream",
     "text": [
      "10001\n"
     ]
    }
   ],
   "source": [
    "a = '10110'\n",
    "b = '00111'\n",
    "# convert binary strings to integers\n",
    "a_int = int(a, 2)\n",
    "b_int = int(b, 2)\n",
    "\n",
    "# bitwise XOR\n",
    "result = a_int ^ b_int\n",
    "\n",
    "print(bin(result)[2:])  # convert result back to binary string"
   ]
  },
  {
   "cell_type": "markdown",
   "metadata": {},
   "source": [
    "## 交换结合律的应用\n",
    "1. 减少空间使用\n",
    "2. 前提： A, B 在内存空间中是各自独立的。如果不是，最后结果会是0。\n"
   ]
  },
  {
   "cell_type": "code",
   "execution_count": 2,
   "metadata": {},
   "outputs": [
    {
     "name": "stdout",
     "output_type": "stream",
     "text": [
      "6\n",
      "17\n",
      "23\n"
     ]
    }
   ],
   "source": [
    "# commtativity & associativity \n",
    "# 假设 A = 甲， B = 乙\n",
    "A = 17\n",
    "B = 23\n",
    "A = A^B # 新A = 甲 ^ 乙\n",
    "print(A)\n",
    "B = A^B # 新B = 甲 ^ 乙 ^ 乙 ； 根据交换结合律 , 得 甲^(乙^乙) = 甲\n",
    "print(B)\n",
    "A = A^B  # 新A = 甲 ^ 乙 ^ 甲 = 乙\n",
    "print(A)"
   ]
  },
  {
   "cell_type": "markdown",
   "metadata": {},
   "source": [
    "#### 例题\n",
    "1. 有一个正数数组 arr[int]\n",
    "2. 其中有一个数出现了奇数次，其他数出现偶数次，请问这个奇数次的数是什么？\n",
    "    - 用异或运算消消乐\n",
    "3. 有两个数出现了奇数次，其他数均出现偶数次，请问这两个数是什么？\n",
    "4. 要求时间复杂度是O(n)"
   ]
  },
  {
   "cell_type": "code",
   "execution_count": 3,
   "metadata": {},
   "outputs": [
    {
     "name": "stdout",
     "output_type": "stream",
     "text": [
      "1\n"
     ]
    }
   ],
   "source": [
    "def printOddNum1(arr):\n",
    "    eor = 0\n",
    "    for element in arr:\n",
    "        eor ^= element\n",
    "    return eor \n",
    "\n",
    "print(printOddNum1([1,1,1,2,3,3,2]))"
   ]
  },
  {
   "cell_type": "markdown",
   "metadata": {},
   "source": [
    "#### 例题\n",
    "有两个数出现了奇数次，其他数均出现偶数次，请问这两个数是什么？\n",
    "1. 重复[2]的步骤，获得EOR = a ^ b \n",
    "2. 因为a !=b (如果相等，那么eor = 0)，所以可以找到以二进制表达的 EOR（a^b） 中，第K位是1。这个1是只属于a或者b的其中一个\n",
    "3. 初始化 EOR' = 0，通过掩码异或第K位，并获得结果 EOR‘ = a OR b (EOR'能获得两个奇数中的其中一个)\n",
    "4. 重复[2]获得这两个奇数 "
   ]
  },
  {
   "cell_type": "markdown",
   "metadata": {},
   "source": [
    "##### 将二进制数的最右边的1取出来\n",
    "```python\n",
    "def get_rightest_one(n):\n",
    "    return n & (~n + 1)\n",
    "```\n",
    "```\n",
    "e.g: \n",
    " EOR =              10101000\n",
    "^EOR =              01010111\n",
    "^EOR + 1 =          01011000\n",
    "----------------------------\n",
    "                        x     // 最右边的1\n",
    "\n",
    "EOR & (^EOR + 1) =  00001000  // &按位与，只有1&1=1，其他都是0\n",
    "```"
   ]
  },
  {
   "cell_type": "code",
   "execution_count": 16,
   "metadata": {},
   "outputs": [
    {
     "name": "stdout",
     "output_type": "stream",
     "text": [
      "两个奇数的异或结果: 3, 用二进制表达就是11 \n",
      "其中的一个奇数 : 10\n",
      "则另一个奇数是 : 9\n"
     ]
    }
   ],
   "source": [
    "def printOddNum2(arr):\n",
    "    EOR = 0\n",
    "    for x in range(len(arr)):\n",
    "        EOR ^= arr[x]\n",
    "    print('两个奇数的异或结果: {}, 用二进制表达就是{} '.format(EOR, bin(EOR)[2:]))\n",
    "    \n",
    "    farRightOne = EOR & (~EOR + 1)\n",
    "    \n",
    "    onlyOne = 0\n",
    "    for x in range(len(arr)):\n",
    "        # 找到在k位置上为1的数\n",
    "        if (arr[x] & farRightOne == 0):  # ==0 的如果是a , 那么 ==1 的就是b\n",
    "            onlyOne ^= arr[x]\n",
    "    print('其中的一个奇数 :', onlyOne)\n",
    "    print('则另一个奇数是 :', EOR ^ onlyOne)\n",
    "printOddNum2([1,1,2,2,3,3,4,4,5,5,6,6,7,7,8,8,9,10]) # 9,10"
   ]
  },
  {
   "cell_type": "markdown",
   "metadata": {},
   "source": [
    "# Insertion Sort \n",
    "\n",
    "## 复杂度分析\n",
    "- Time Complexity: O(n^2)\n",
    "- Space Complexity: O(1)\n",
    "\n",
    "## 伪代码\n",
    "\n",
    "```python\n",
    "     [3 ,2, 5, 4, 2, 3, 3]  \n",
    "     ----------------------\n",
    "      0  1  2  3  4  5  6\n",
    "- 1st iteration [0] \n",
    "- 2nd iteration [0, 1] : arr[0] > arr[1] => swap => [2,3,5,4,2,3,3] 0~1有序\n",
    "- 3rd iteration [0, 1, 2] : arr[1] < arr[2] => no swap => [2,3,4,5,2,3,3] 0~2有序\n",
    "- 4th iteration [0, 1, 2, 3] : arr[2] < arr[3] => no swap => [2,3,4,5,2,3,3] 0~3有序\n",
    "- 5th iteration [0, 1, 2, 3, 4] : \n",
    "                                arr[3] > arr[4] => swap => [2,3,4,2,5,3,3] 0~4有序? False \n",
    "                                arr[2] > arr[3] => swap => [2,3,2,4,5,3,3] ...\n",
    "                                arr[1] > arr[2] => swap => [2,2,3,4,5,3,3] 0~4有序\n",
    "\n",
    "以此类推\n",
    "```"
   ]
  },
  {
   "cell_type": "code",
   "execution_count": 36,
   "metadata": {},
   "outputs": [],
   "source": [
    "def insertion_sort(arr):\n",
    "    # edge cases \n",
    "    if arr is None or len(arr)<2:\n",
    "        return arr \n",
    "    for i in range(1, len(arr)): # 每一步的目标，0 ~ i上有序\n",
    "        print(\"\\n现在处理的是数组中的下位从0 ~ {}的部分，即{}\".format(i,arr[:i+1]))\n",
    "        for j in range(i-1, -1, -1): # 从i-1开始，往前看，如果i-1和i不满足顺序，就交换 \n",
    "            ## 要么i-1开始，对比 j ,j +1 ；那么i开始，对比j-1, j\n",
    "            print(\"对比的是{}和{}位置上的数\".format(j, j+1))\n",
    "            if j>=0 and arr[j]>arr[j+1]:\n",
    "                print(\"发现{}和{}位置上的数不满足顺序，交换\".format(j, j+1))\n",
    "                print(\"交换前的数组是{}\".format(arr))\n",
    "                arr[j], arr[j+1] = arr[j+1], arr[j]\n",
    "                print(\"交换后的数组是{}\".format(arr))\n",
    "            else:\n",
    "                print(\"发现{}和{}位置上的数满足顺序，不交换\".format(j, j+1))\n",
    "    return arr "
   ]
  },
  {
   "cell_type": "code",
   "execution_count": 37,
   "metadata": {},
   "outputs": [
    {
     "name": "stdout",
     "output_type": "stream",
     "text": [
      "\n",
      "现在处理的是数组中的下位从0 ~ 1的部分，即[5, 2]\n",
      "对比的是0和1位置上的数\n",
      "发现0和1位置上的数不满足顺序，交换\n",
      "交换前的数组是[5, 2, 4, 6, 1, 3]\n",
      "交换后的数组是[2, 5, 4, 6, 1, 3]\n",
      "\n",
      "现在处理的是数组中的下位从0 ~ 2的部分，即[2, 5, 4]\n",
      "对比的是1和2位置上的数\n",
      "发现1和2位置上的数不满足顺序，交换\n",
      "交换前的数组是[2, 5, 4, 6, 1, 3]\n",
      "交换后的数组是[2, 4, 5, 6, 1, 3]\n",
      "对比的是0和1位置上的数\n",
      "发现0和1位置上的数满足顺序，不交换\n",
      "\n",
      "现在处理的是数组中的下位从0 ~ 3的部分，即[2, 4, 5, 6]\n",
      "对比的是2和3位置上的数\n",
      "发现2和3位置上的数满足顺序，不交换\n",
      "对比的是1和2位置上的数\n",
      "发现1和2位置上的数满足顺序，不交换\n",
      "对比的是0和1位置上的数\n",
      "发现0和1位置上的数满足顺序，不交换\n",
      "\n",
      "现在处理的是数组中的下位从0 ~ 4的部分，即[2, 4, 5, 6, 1]\n",
      "对比的是3和4位置上的数\n",
      "发现3和4位置上的数不满足顺序，交换\n",
      "交换前的数组是[2, 4, 5, 6, 1, 3]\n",
      "交换后的数组是[2, 4, 5, 1, 6, 3]\n",
      "对比的是2和3位置上的数\n",
      "发现2和3位置上的数不满足顺序，交换\n",
      "交换前的数组是[2, 4, 5, 1, 6, 3]\n",
      "交换后的数组是[2, 4, 1, 5, 6, 3]\n",
      "对比的是1和2位置上的数\n",
      "发现1和2位置上的数不满足顺序，交换\n",
      "交换前的数组是[2, 4, 1, 5, 6, 3]\n",
      "交换后的数组是[2, 1, 4, 5, 6, 3]\n",
      "对比的是0和1位置上的数\n",
      "发现0和1位置上的数不满足顺序，交换\n",
      "交换前的数组是[2, 1, 4, 5, 6, 3]\n",
      "交换后的数组是[1, 2, 4, 5, 6, 3]\n",
      "\n",
      "现在处理的是数组中的下位从0 ~ 5的部分，即[1, 2, 4, 5, 6, 3]\n",
      "对比的是4和5位置上的数\n",
      "发现4和5位置上的数不满足顺序，交换\n",
      "交换前的数组是[1, 2, 4, 5, 6, 3]\n",
      "交换后的数组是[1, 2, 4, 5, 3, 6]\n",
      "对比的是3和4位置上的数\n",
      "发现3和4位置上的数不满足顺序，交换\n",
      "交换前的数组是[1, 2, 4, 5, 3, 6]\n",
      "交换后的数组是[1, 2, 4, 3, 5, 6]\n",
      "对比的是2和3位置上的数\n",
      "发现2和3位置上的数不满足顺序，交换\n",
      "交换前的数组是[1, 2, 4, 3, 5, 6]\n",
      "交换后的数组是[1, 2, 3, 4, 5, 6]\n",
      "对比的是1和2位置上的数\n",
      "发现1和2位置上的数满足顺序，不交换\n",
      "对比的是0和1位置上的数\n",
      "发现0和1位置上的数满足顺序，不交换\n"
     ]
    },
    {
     "data": {
      "text/plain": [
       "[1, 2, 3, 4, 5, 6]"
      ]
     },
     "execution_count": 37,
     "metadata": {},
     "output_type": "execute_result"
    }
   ],
   "source": [
    "insertion_sort([5, 2, 4, 6, 1, 3])"
   ]
  },
  {
   "cell_type": "markdown",
   "metadata": {},
   "source": [
    "# 二分查找\n",
    "## 用例\n",
    "1. 有序数组中，找某个数是否存在 $O(log_{2}N)$\n",
    "2. 有序数组中，找到>=某个数最左侧的位置 \n",
    "3. 局部最小值问题\n"
   ]
  },
  {
   "cell_type": "markdown",
   "metadata": {},
   "source": [
    "# 对数器\n"
   ]
  }
 ],
 "metadata": {
  "kernelspec": {
   "display_name": "Python 3",
   "language": "python",
   "name": "python3"
  },
  "language_info": {
   "codemirror_mode": {
    "name": "ipython",
    "version": 3
   },
   "file_extension": ".py",
   "mimetype": "text/x-python",
   "name": "python",
   "nbconvert_exporter": "python",
   "pygments_lexer": "ipython3",
   "version": "3.10.7"
  },
  "orig_nbformat": 4
 },
 "nbformat": 4,
 "nbformat_minor": 2
}

{
 "cells": [
  {
   "cell_type": "markdown",
   "metadata": {},
   "source": [
    "# Time Complexity \n",
    "## Usa: to measure the performance of constant operations \n",
    "\n",
    "### What's `constant operation`? \n",
    "1. Arithmetic operations: +, -, *, /, %, //, **\n",
    "2. Bitwise operations: &, |, ^, ~, <<, >>\n",
    "3. Boolean operations: and, or, not\n",
    "4. Comparison operations: <, <=, >, >=, ==, !=\n",
    "5. Identity operations: is, is not\n",
    "6. Membership operations: in, not in\n",
    "7. etc.\n",
    "8. 与数据量无关的操作\n",
    "\n",
    "### What's non-constant operation?\n",
    "e.g. \n",
    "1. fetch [i] in a linked list "
   ]
  },
  {
   "cell_type": "markdown",
   "metadata": {},
   "source": [
    "# 等差数列 - 前N项和\n",
    "- 已知首选、末项、项数，求和 （倒序相加法）\n",
    "$S_n = \\frac{n \\times (a_1 + a_2)}{2}$ \n",
    "- 已知首项、项数、公差，求和\n",
    "$S_n = a_1 \\times n + \\frac{n \\times (n-1)}{2} \\times d$"
   ]
  },
  {
   "cell_type": "markdown",
   "metadata": {},
   "source": [
    "# Selection Sort \n",
    "1. works by repeatedly finding the smallest element in an array and swapping it with the first element in the array.\n",
    "2. starts at the beginning of the array and compares the first element with the remaining elements in the array. The smallest element is found and swapped with the first element.\n",
    "3. then moves on to the next element and repeats the process. This continues until the end of the array is reached."
   ]
  },
  {
   "cell_type": "markdown",
   "metadata": {},
   "source": [
    "## 选择排序的基本思想\n",
    "- 在每次迭代中找到剩余未排序部分的最小元素,并将其放到正确的位置。"
   ]
  },
  {
   "cell_type": "code",
   "execution_count": 2,
   "metadata": {},
   "outputs": [
    {
     "name": "stdout",
     "output_type": "stream",
     "text": [
      "[1, 3, 2, 5, 4]\n"
     ]
    }
   ],
   "source": [
    "# 错误版本：\n",
    "def selection_sort(arr):\n",
    "    # rule out edge cases \n",
    "    if arr is None or len(arr) < 2:\n",
    "        return arr\n",
    "    # loop through the arr \n",
    "    i = 0\n",
    "    j = 1\n",
    "    while i < len(arr):\n",
    "        # assume the min value is the first element\n",
    "        min_index = i\n",
    "        while j < len(arr):\n",
    "            # any value less than the min value, update the min value\n",
    "            if(arr[j] < arr[min_index]):\n",
    "                # found new min value, update the min value\n",
    "                min_index = j\n",
    "                # swap the values \n",
    "                print('before swap: ', arr)\n",
    "                arr[i], arr[j] = arr[j], arr[i]\n",
    "                print('after swap:', arr)\n",
    "            j += 1\n",
    "        i += 1\n",
    "    print(arr)\n",
    "\n",
    "selection_sort([1, 3, 2, 5, 4])"
   ]
  },
  {
   "cell_type": "markdown",
   "metadata": {},
   "source": [
    "### 错误反思\n",
    "1. 不应该在循环中交换值；应该做的是更新minIndex的位置\n",
    "2. j指针应该应该始终和minIndex有关，即是minIndex的后一位（最小值的下一位），所以不能初始1后再 +=1"
   ]
  },
  {
   "cell_type": "code",
   "execution_count": 11,
   "metadata": {},
   "outputs": [],
   "source": [
    "# 正确的写法\n",
    "def selectionSort(arr):\n",
    "    for i in range(len(arr) - 1):\n",
    "        #记录最小数的索引\n",
    "        minIndex = i\n",
    "        for j in range(i + 1, len(arr)):\n",
    "            if arr[j] < arr[minIndex]:\n",
    "                minIndex = j\n",
    "        # i 不是最小数时，将 i 和最小数进行交换\n",
    "        if i != minIndex:\n",
    "            arr[i], arr[minIndex] = arr[minIndex], arr[i]\n",
    "    return arr"
   ]
  },
  {
   "cell_type": "code",
   "execution_count": 12,
   "metadata": {},
   "outputs": [
    {
     "data": {
      "text/plain": [
       "[1, 2, 3, 4, 5]"
      ]
     },
     "execution_count": 12,
     "metadata": {},
     "output_type": "execute_result"
    }
   ],
   "source": [
    "selectionSort([1, 3, 2, 5, 4])"
   ]
  },
  {
   "cell_type": "markdown",
   "metadata": {},
   "source": [
    "1. 排序子数组的范围 ： 0 ~ len - 1\n",
    "2. 因为最后一个子数组一定是最大的，不需要排序（前面已经排完了）\n",
    "3. 子循环中 j 是锁定 minIndex\n",
    "4. python中需要再循环外调换元素值"
   ]
  },
  {
   "cell_type": "markdown",
   "metadata": {},
   "source": [
    "# Bubble Sort "
   ]
  },
  {
   "cell_type": "markdown",
   "metadata": {},
   "source": [
    "1. 从index-0开始，对比0,1上的元素大小，如1<0则交换\n",
    "2. 依次类推，对比1,2; 2,3 ...\n",
    "3. 第一次循环结束，就可以确定**最后一个元素**在正确的位置上\n",
    "4. 以此类推，确定倒数2，3 ..."
   ]
  },
  {
   "cell_type": "markdown",
   "metadata": {},
   "source": [
    "## 时间复杂度 0(n^2)"
   ]
  },
  {
   "cell_type": "code",
   "execution_count": 3,
   "metadata": {},
   "outputs": [
    {
     "name": "stdout",
     "output_type": "stream",
     "text": [
      "\n",
      "before swap:  [7, 5, 3, 2, 4]\n",
      "We are going to swap 7 with 5 at the index of 0 and 1\n",
      "after swap:  [5, 7, 3, 2, 4]\n",
      "\n",
      "before swap:  [5, 7, 3, 2, 4]\n",
      "We are going to swap 7 with 3 at the index of 1 and 2\n",
      "after swap:  [5, 3, 7, 2, 4]\n",
      "\n",
      "before swap:  [5, 3, 7, 2, 4]\n",
      "We are going to swap 7 with 2 at the index of 2 and 3\n",
      "after swap:  [5, 3, 2, 7, 4]\n",
      "\n",
      "before swap:  [5, 3, 2, 7, 4]\n",
      "We are going to swap 7 with 4 at the index of 3 and 4\n",
      "after swap:  [5, 3, 2, 4, 7]\n",
      "\n",
      "before swap:  [5, 3, 2, 4, 7]\n",
      "We are going to swap 5 with 3 at the index of 0 and 1\n",
      "after swap:  [3, 5, 2, 4, 7]\n",
      "\n",
      "before swap:  [3, 5, 2, 4, 7]\n",
      "We are going to swap 5 with 2 at the index of 1 and 2\n",
      "after swap:  [3, 2, 5, 4, 7]\n",
      "\n",
      "before swap:  [3, 2, 5, 4, 7]\n",
      "We are going to swap 5 with 4 at the index of 2 and 3\n",
      "after swap:  [3, 2, 4, 5, 7]\n",
      "\n",
      "before swap:  [3, 2, 4, 5, 7]\n",
      "We are going to swap 3 with 2 at the index of 0 and 1\n",
      "after swap:  [2, 3, 4, 5, 7]\n",
      "\n",
      "😁 Bubble sort completed:  [2, 3, 4, 5, 7]\n"
     ]
    }
   ],
   "source": [
    "def bubble_sort(arr):\n",
    "    # edge cases\n",
    "    if arr is None or len(arr) < 2:\n",
    "        return arr\n",
    "    \"\"\"\n",
    "    Because buble sort confirms the largest element at the end of the array in each sort loop, we need to slice out the last element for the next loop.\n",
    "    \"\"\"\n",
    "    for i in range(len(arr), 0, -1):\n",
    "        for x in range(0,i-1): # i is the length of the sliced array\n",
    "            # if the current element is greater than the next element, swap them\n",
    "            if arr[x] > arr[x+1]:\n",
    "                print('\\nbefore swap: ', arr)\n",
    "                print(\"We are going to swap {} with {} at the index of {} and {}\".format(arr[x], arr[x+1],x, x+1))\n",
    "                arr[x], arr[x+1] = arr[x+1], arr[x]\n",
    "                print('after swap: ', arr)\n",
    "    print('\\n😁 Bubble sort completed: ', arr)\n",
    "    \n",
    "bubble_sort([7, 5, 3, 2, 4])"
   ]
  },
  {
   "cell_type": "markdown",
   "metadata": {
    "tags": []
   },
   "source": [
    "# XOR Operations \n",
    "1. 可以理解为*无进位相加*\n",
    "2. 性质：\n",
    "    1. 任何数N和0异或，结果为N\n",
    "    2. 任何数N和自己异或，结果为0\n",
    "    3. 交换律：确实，异或操作遵循交换律，即 a⊕b=b⊕aa⊕b=b⊕a。\n",
    "    4. 结合律：异或操作也遵循结合律，即 a⊕(b⊕c)=(a⊕b)⊕ca⊕(b⊕c)=(a⊕b)⊕c。\n",
    "    5. 分配律：异或操作不遵循分配律。在布尔代数中，分配律通常指的是与（AND）和或（OR）操作。异或操作的分配律形式 a⊕(b⊕c)=(a⊕b)⊕(a⊕c)a⊕(b⊕c)=(a⊕b)⊕(a⊕c) 并不成立。"
   ]
  },
  {
   "cell_type": "markdown",
   "metadata": {},
   "source": [
    "### 对一组数进行XOR操作\n",
    "- 数字顺序无关"
   ]
  },
  {
   "cell_type": "markdown",
   "metadata": {},
   "source": [
    "### 交换两个数a, b的值\n",
    "\n",
    "1. a = a^b\n",
    "2. b = a^b 由于在(1)中，a有重新赋值，因此 b_2 = a^b^b = a\n",
    "3. a = a^b 同理，由于(1)(2)中对a,b都有重新赋值，因此 a_3 = a^b^a = b\n",
    "\n",
    "\n",
    "*注意: a,b必须指向内存中的不同地址*\n",
    "- 例如，在数组中调换arr[i] arr[j]的值，必须确保i!=j。否则XOR调换后，最后这位置上的数会为0"
   ]
  },
  {
   "cell_type": "code",
   "execution_count": 6,
   "metadata": {},
   "outputs": [
    {
     "name": "stdout",
     "output_type": "stream",
     "text": [
      "10001\n"
     ]
    }
   ],
   "source": [
    "a = '10110'\n",
    "b = '00111'\n",
    "# convert binary strings to integers\n",
    "a_int = int(a, 2)\n",
    "b_int = int(b, 2)\n",
    "\n",
    "# bitwise XOR\n",
    "result = a_int ^ b_int\n",
    "\n",
    "print(bin(result)[2:])  # convert result back to binary string"
   ]
  },
  {
   "cell_type": "markdown",
   "metadata": {
    "tags": []
   },
   "source": [
    "## 交换结合律的应用\n",
    "1. 减少空间使用\n",
    "2. 前提： A, B 在内存空间中是各自独立的。如果不是，最后结果会是0。\n"
   ]
  },
  {
   "cell_type": "code",
   "execution_count": 2,
   "metadata": {
    "tags": []
   },
   "outputs": [
    {
     "name": "stdout",
     "output_type": "stream",
     "text": [
      "6\n",
      "17\n",
      "23\n"
     ]
    }
   ],
   "source": [
    "# commtativity & associativity \n",
    "# 假设 A = 甲， B = 乙\n",
    "A = 17\n",
    "B = 23\n",
    "A = A^B # 新A = 甲 ^ 乙\n",
    "print(A)\n",
    "B = A^B # 新B = 甲 ^ 乙 ^ 乙 ； 根据交换结合律 , 得 甲^(乙^乙) = 甲\n",
    "print(B)\n",
    "A = A^B  # 新A = 甲 ^ 乙 ^ 甲 = 乙\n",
    "print(A)"
   ]
  },
  {
   "cell_type": "markdown",
   "metadata": {},
   "source": [
    "#### 例题\n",
    "1. 有一个正数数组 arr[int]\n",
    "2. 其中有一个数出现了奇数次，其他数出现偶数次，请问这个奇数次的数是什么？\n",
    "    - 用异或运算消消乐\n",
    "3. 有两个数出现了奇数次，其他数均出现偶数次，请问这两个数是什么？\n",
    "4. 要求时间复杂度是O(n)"
   ]
  },
  {
   "cell_type": "code",
   "execution_count": 3,
   "metadata": {},
   "outputs": [
    {
     "name": "stdout",
     "output_type": "stream",
     "text": [
      "1\n"
     ]
    }
   ],
   "source": [
    "def printOddNum1(arr):\n",
    "    eor = 0\n",
    "    for element in arr:\n",
    "        eor ^= element\n",
    "    return eor \n",
    "\n",
    "print(printOddNum1([1,1,1,2,3,3,2]))"
   ]
  },
  {
   "cell_type": "markdown",
   "metadata": {},
   "source": [
    "#### 例题(寻找两个奇数）\n",
    "- 有两个数出现了奇数次，其他数均出现偶数次，请问这两个数是什么？\n",
    "1. 重复[2]的步骤，获得EOR = a ^ b （两个奇数的异或结果） \n",
    "2. 已知a !=b (如果相等，那么eor = 0)，因此EOR这个结果中，至少有一位是1。假设1是在k位置上。\n",
    "3. 再次遍历所有的数字，并只对所有k位置上是1的数字进行异或运算（也可选择对K位置上是0的数字进行异或运算），将结果赋值给 EOR'。\n",
    "4. 异或计算 EOR ^ EOR'  = a ^ b ^ a = b。获得2个奇数中的一个，假设是b\n",
    "5. 将这个数值 b ^ EOR = a。获得另一个的奇数"
   ]
  },
  {
   "cell_type": "markdown",
   "metadata": {},
   "source": [
    "### 将二进制数的最右边的1取出来\n",
    "```python\n",
    "def get_rightest_one(n):\n",
    "    return n & (~n + 1)\n",
    "```\n",
    "```\n",
    "e.g: \n",
    " EOR =              10101000\n",
    "^EOR =              01010111\n",
    "^EOR + 1 =          01011000\n",
    "----------------------------\n",
    "                        x     // 最右边的1\n",
    "\n",
    "EOR & (^EOR + 1) =  00001000  // &按位与，只有1&1=1，其他都是0\n",
    "```"
   ]
  },
  {
   "cell_type": "markdown",
   "metadata": {},
   "source": [
    "`~` 取反运算\n",
    "- 在二进制中,将每个位上的1变为0,0变为1 \n",
    "\n",
    "`&` 与运算\n",
    "- 1 & 1 = 1 ； 其他数字相与都是0\n",
    "\n",
    "关于“补码”\n",
    "- 任何整数`n` 的补码都是 `~n+1`\n",
    "- 这是因为 `n+(~n+1) = n-n+1-1 = 0`"
   ]
  },
  {
   "cell_type": "code",
   "execution_count": 8,
   "metadata": {},
   "outputs": [
    {
     "name": "stdout",
     "output_type": "stream",
     "text": [
      "两个奇数的异或结果: 3, 用二进制表达就是11 \n",
      "其中的一个奇数 : 10\n",
      "则另一个奇数是 : 9\n"
     ]
    }
   ],
   "source": [
    "def printOddNum2(arr):\n",
    "    EOR = 0\n",
    "    for x in range(len(arr)):\n",
    "        EOR ^= arr[x]\n",
    "    print('两个奇数的异或结果: {}, 用二进制表达就是{} '.format(EOR, bin(EOR)[2:]))\n",
    "    \n",
    "    farRightOne = EOR & (~EOR + 1)\n",
    "    \n",
    "    onlyOne = 0 #即eor'\n",
    "    for x in range(len(arr)):\n",
    "        # 通过与运算，找到在k位置上为1的所有数；并进行异或运算\n",
    "        if (arr[x] & farRightOne == 0):  # ==0 的如果是a , 那么 ==1 的就是b\n",
    "            onlyOne ^= arr[x]\n",
    "    print('其中的一个奇数 :', onlyOne)\n",
    "    print('则另一个奇数是 :', EOR ^ onlyOne)\n",
    "printOddNum2([1,1,2,2,3,3,4,4,5,5,6,6,7,7,8,8,9,10]) # 9,10"
   ]
  },
  {
   "cell_type": "markdown",
   "metadata": {},
   "source": [
    "# Insertion Sort \n",
    "\n",
    "## 复杂度分析\n",
    "- Time Complexity: O(n^2)\n",
    "- Space Complexity: O(1)\n",
    "\n",
    "## 伪代码\n",
    "\n",
    "```python\n",
    "     [3 ,2, 5, 4, 2, 3, 3]  \n",
    "     ----------------------\n",
    "      0  1  2  3  4  5  6\n",
    "- 1st iteration [0] \n",
    "- 2nd iteration [0, 1] : arr[0] > arr[1] => swap => [2,3,5,4,2,3,3] 0~1有序\n",
    "- 3rd iteration [0, 1, 2] : arr[1] < arr[2] => no swap => [2,3,4,5,2,3,3] 0~2有序\n",
    "- 4th iteration [0, 1, 2, 3] : arr[2] < arr[3] => no swap => [2,3,4,5,2,3,3] 0~3有序\n",
    "- 5th iteration [0, 1, 2, 3, 4] : \n",
    "                                arr[3] > arr[4] => swap => [2,3,4,2,5,3,3] 0~4有序? False \n",
    "                                arr[2] > arr[3] => swap => [2,3,2,4,5,3,3] ...\n",
    "                                arr[1] > arr[2] => swap => [2,2,3,4,5,3,3] 0~4有序\n",
    "\n",
    "以此类推\n",
    "```"
   ]
  },
  {
   "cell_type": "code",
   "execution_count": 36,
   "metadata": {},
   "outputs": [],
   "source": [
    "def insertion_sort(arr):\n",
    "    # edge cases \n",
    "    if arr is None or len(arr)<2:\n",
    "        return arr \n",
    "    \n",
    "    for i in range(1, len(arr)): # 每一步的目标，0 ~ i上有序\n",
    "        print(\"\\n现在处理的是数组中的下位从0 ~ {}的部分，即{}\".format(i,arr[:i+1]))\n",
    "        \n",
    "        for j in range(i-1, -1, -1): # 从i-1开始，往前看，如果i-1和i不满足顺序，就交换 \n",
    "    \n",
    "            # 要么i-1开始，对比 j ,j +1 ；那么i开始，对比j-1, j\n",
    "            print(\"对比的是{}和{}位置上的数\".format(j, j+1))\n",
    "            \n",
    "            if j>=0 and arr[j]>arr[j+1]:\n",
    "                print(\"发现{}和{}位置上的数不满足顺序，交换\".format(j, j+1))\n",
    "                print(\"交换前的数组是{}\".format(arr))\n",
    "                arr[j], arr[j+1] = arr[j+1], arr[j]\n",
    "                print(\"交换后的数组是{}\".format(arr))\n",
    "            else:\n",
    "                print(\"发现{}和{}位置上的数满足顺序，不交换\".format(j, j+1))\n",
    "    return arr "
   ]
  },
  {
   "cell_type": "code",
   "execution_count": 37,
   "metadata": {},
   "outputs": [
    {
     "name": "stdout",
     "output_type": "stream",
     "text": [
      "\n",
      "现在处理的是数组中的下位从0 ~ 1的部分，即[5, 2]\n",
      "对比的是0和1位置上的数\n",
      "发现0和1位置上的数不满足顺序，交换\n",
      "交换前的数组是[5, 2, 4, 6, 1, 3]\n",
      "交换后的数组是[2, 5, 4, 6, 1, 3]\n",
      "\n",
      "现在处理的是数组中的下位从0 ~ 2的部分，即[2, 5, 4]\n",
      "对比的是1和2位置上的数\n",
      "发现1和2位置上的数不满足顺序，交换\n",
      "交换前的数组是[2, 5, 4, 6, 1, 3]\n",
      "交换后的数组是[2, 4, 5, 6, 1, 3]\n",
      "对比的是0和1位置上的数\n",
      "发现0和1位置上的数满足顺序，不交换\n",
      "\n",
      "现在处理的是数组中的下位从0 ~ 3的部分，即[2, 4, 5, 6]\n",
      "对比的是2和3位置上的数\n",
      "发现2和3位置上的数满足顺序，不交换\n",
      "对比的是1和2位置上的数\n",
      "发现1和2位置上的数满足顺序，不交换\n",
      "对比的是0和1位置上的数\n",
      "发现0和1位置上的数满足顺序，不交换\n",
      "\n",
      "现在处理的是数组中的下位从0 ~ 4的部分，即[2, 4, 5, 6, 1]\n",
      "对比的是3和4位置上的数\n",
      "发现3和4位置上的数不满足顺序，交换\n",
      "交换前的数组是[2, 4, 5, 6, 1, 3]\n",
      "交换后的数组是[2, 4, 5, 1, 6, 3]\n",
      "对比的是2和3位置上的数\n",
      "发现2和3位置上的数不满足顺序，交换\n",
      "交换前的数组是[2, 4, 5, 1, 6, 3]\n",
      "交换后的数组是[2, 4, 1, 5, 6, 3]\n",
      "对比的是1和2位置上的数\n",
      "发现1和2位置上的数不满足顺序，交换\n",
      "交换前的数组是[2, 4, 1, 5, 6, 3]\n",
      "交换后的数组是[2, 1, 4, 5, 6, 3]\n",
      "对比的是0和1位置上的数\n",
      "发现0和1位置上的数不满足顺序，交换\n",
      "交换前的数组是[2, 1, 4, 5, 6, 3]\n",
      "交换后的数组是[1, 2, 4, 5, 6, 3]\n",
      "\n",
      "现在处理的是数组中的下位从0 ~ 5的部分，即[1, 2, 4, 5, 6, 3]\n",
      "对比的是4和5位置上的数\n",
      "发现4和5位置上的数不满足顺序，交换\n",
      "交换前的数组是[1, 2, 4, 5, 6, 3]\n",
      "交换后的数组是[1, 2, 4, 5, 3, 6]\n",
      "对比的是3和4位置上的数\n",
      "发现3和4位置上的数不满足顺序，交换\n",
      "交换前的数组是[1, 2, 4, 5, 3, 6]\n",
      "交换后的数组是[1, 2, 4, 3, 5, 6]\n",
      "对比的是2和3位置上的数\n",
      "发现2和3位置上的数不满足顺序，交换\n",
      "交换前的数组是[1, 2, 4, 3, 5, 6]\n",
      "交换后的数组是[1, 2, 3, 4, 5, 6]\n",
      "对比的是1和2位置上的数\n",
      "发现1和2位置上的数满足顺序，不交换\n",
      "对比的是0和1位置上的数\n",
      "发现0和1位置上的数满足顺序，不交换\n"
     ]
    },
    {
     "data": {
      "text/plain": [
       "[1, 2, 3, 4, 5, 6]"
      ]
     },
     "execution_count": 37,
     "metadata": {},
     "output_type": "execute_result"
    }
   ],
   "source": [
    "insertion_sort([5, 2, 4, 6, 1, 3])"
   ]
  },
  {
   "cell_type": "markdown",
   "metadata": {
    "tags": []
   },
   "source": [
    "# 二分查找\n",
    "## 用例\n",
    "1. 有序数组中，找某个数是否存在 $O(log_{2}N)$\n",
    "2. 有序数组中，找到>=某个数最左侧的位置 \n",
    "3. 局部最小值问题，这时候可以是无序数组\n"
   ]
  },
  {
   "cell_type": "code",
   "execution_count": 12,
   "metadata": {},
   "outputs": [],
   "source": [
    "def binarySearch(arr, target):\n",
    "    left = 0\n",
    "    right = len(arr) - 1\n",
    "    \n",
    "    while left <= right: # =条件包括在内，确保数组只包含一个元素时，这个算法也能成功\n",
    "        mid = left + (right - left) // 2\n",
    "        if arr[mid] == target:\n",
    "            return True\n",
    "        elif arr[mid] > target:\n",
    "            right = mid - 1\n",
    "        else:  # arr[mid] < target\n",
    "            left = mid + 1\n",
    "    \n",
    "    return False  # 如果循环结束仍未找到，则返回False\n"
   ]
  },
  {
   "cell_type": "code",
   "execution_count": 13,
   "metadata": {},
   "outputs": [
    {
     "name": "stdout",
     "output_type": "stream",
     "text": [
      "True\n",
      "False\n"
     ]
    }
   ],
   "source": [
    "a = [1,2,3,4,5,6,7,9,10]\n",
    "b = 5\n",
    "c = 8\n",
    "\n",
    "print(binarySearch(a,b))\n",
    "print(binarySearch(a,c))"
   ]
  },
  {
   "cell_type": "markdown",
   "metadata": {},
   "source": [
    "### 用二分法查找包含重复数字的、有序数组中，大于等于目标数组最左位置的对应数字的下标\n",
    "\n",
    "- 如\n",
    "- 数组 [1,1,1,2,2,2,2,2,2,3,3,3,3,3,3,3,4,4,4,4,5,5,5,5,5] \n",
    "- 找到 Target = 3 在以上数组中最左侧3的下标\n",
    "- 与普通二分法的区别是，这个查找必须要找到最后一个元素\n",
    "- 类似，也可以用来寻找小于等于目标最右侧的数字下标"
   ]
  },
  {
   "cell_type": "code",
   "execution_count": 24,
   "metadata": {},
   "outputs": [],
   "source": [
    "def far_left_position(arr, target):\n",
    "    left = 0\n",
    "    right = len(arr) - 1\n",
    "    t = -1  # 如果找不到，返回-1表示不存在\n",
    "\n",
    "    while left <= right:\n",
    "        mid = left + (right - left) // 2\n",
    "        if arr[mid] == target:\n",
    "            t = mid # t= min(mid,t) 这是安全且逻辑正确，但是没有必要的\n",
    "            right = mid - 1  # 继续向左搜索\n",
    "        elif arr[mid] < target:\n",
    "            left = mid + 1\n",
    "        else:\n",
    "            right = mid - 1\n",
    "\n",
    "    if t == -1:\n",
    "        print(\"The target number {} is not found in the array\".format(target))\n",
    "    else:\n",
    "        print(\"The target number {} is located at index {} in the array\".format(target, t))\n"
   ]
  },
  {
   "cell_type": "code",
   "execution_count": 22,
   "metadata": {},
   "outputs": [
    {
     "name": "stdout",
     "output_type": "stream",
     "text": [
      "The target number 4 is located at index 16 in the array\n"
     ]
    }
   ],
   "source": [
    "A = [1,1,1,2,2,2,2,2,2,3,3,3,3,3,3,3,4,4,4,4,5,5,5,5,5] \n",
    "T = 4\n",
    "\n",
    "far_left_position(A,T)"
   ]
  },
  {
   "cell_type": "markdown",
   "metadata": {},
   "source": [
    "### 二分法解决“局部最小”问题\n",
    "\n",
    "题目\n",
    "1. 在无序数组中，相邻的数字一定不相等，找到该数组中任一一个局部最小数字的下标，复杂度优于O(N)\n",
    "2. 局部最小的定义：\n",
    "    1. 如果 arr[0] < arr[1] , arr[0]就是局部最小\n",
    "    2. 如果 arr[n-1] < arr[n-2], arr[n]就是局部最小\n",
    "    3. 如果 arr[n-k] < arr[n-k+1] 且 arr[n-k] < arr[n-k-1]， 那么arr[n-k]就是局部最小\n",
    "3. 无序数组一定存在“局部最小”"
   ]
  },
  {
   "cell_type": "markdown",
   "metadata": {},
   "source": [
    "# 对数器*\n"
   ]
  },
  {
   "cell_type": "markdown",
   "metadata": {},
   "source": [
    "- 有：方法A(想测试的方法）；方法B(是不计较优化的好实现的方法）\n",
    "- 随机方法产生器：通过A获得结果a ; B -> b \n",
    "- a ?= b"
   ]
  },
  {
   "cell_type": "markdown",
   "metadata": {},
   "source": [
    "## `Math.random()` 等概率返回随机整数\n",
    "- random() => [0,1)所有小数，等概率返回一个\n",
    "- random() * N => [0, N) 所有小数，等概率返回一个\n",
    "- int(random() * N) => [0, N-1] 所有整数，等概率返回一个"
   ]
  }
 ],
 "metadata": {
  "kernelspec": {
   "display_name": "Python 3 (ipykernel)",
   "language": "python",
   "name": "python3"
  },
  "language_info": {
   "codemirror_mode": {
    "name": "ipython",
    "version": 3
   },
   "file_extension": ".py",
   "mimetype": "text/x-python",
   "name": "python",
   "nbconvert_exporter": "python",
   "pygments_lexer": "ipython3",
   "version": "3.9.13"
  }
 },
 "nbformat": 4,
 "nbformat_minor": 4
}

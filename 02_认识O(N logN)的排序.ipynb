{
 "cells": [
  {
   "cell_type": "markdown",
   "id": "4b54b964-8b11-4e19-a1ac-f94b26f76f26",
   "metadata": {},
   "source": [
    "# 递归"
   ]
  },
  {
   "cell_type": "markdown",
   "id": "7c866a23-d64f-4416-9978-9ca8f618014c",
   "metadata": {},
   "source": [
    "## 剖析递归行为和时间复杂度"
   ]
  },
  {
   "cell_type": "markdown",
   "id": "7776fd57-4397-445c-b4c5-5387c05394b4",
   "metadata": {},
   "source": [
    "### 用递归求数组中的最大值"
   ]
  },
  {
   "cell_type": "markdown",
   "id": "daddb885-9e51-4797-b87f-f9b4630e3052",
   "metadata": {},
   "source": [
    "- mid = left + (right - left) // 2 \n",
    "- 简化为 mid = L + (R-L) >> 1 *\n",
    "\n",
    "\n",
    "#### 二进制数表示\n",
    "\n",
    "在二进制表示中，每个数字的位置代表一个特定的值，这个值是2的幂。从右向左看，最右边的位代表 `2^0`（即1），下一位代表 `2^1`（即2），再下一位代表 `2^2`（即4），以此类推。\n",
    "\n",
    "例如，二进制数 1011 表示为：\n",
    "\n",
    "    1×23=81×23=8\n",
    "    0×22=00×22=0\n",
    "    1×21=21×21=2\n",
    "    1×20=11×20=1\n",
    "\n",
    "所以 1011 等于 8+0+2+1=118+0+2+1=11。\n",
    "右移操作\n",
    "\n",
    "右移一位操作，意味着将二进制数中的每一位都向右移动一个位置。这会导致最右边的一位被丢弃，而最左边会根据具体的右移类型（逻辑右移或算术右移）添加一位（通常是0）。在数值层面，这个操作相当于将每个位代表的值都减少一半（因为 2n2n 变成 2n−12n−1）。\n",
    "例子\n",
    "\n",
    "举个例子，假设我们有一个二进制数 1100（十进制中的12）：\n",
    "\n",
    "    二进制 1100 表示为：\n",
    "        1×23=81×23=8\n",
    "        1×22=41×22=4\n",
    "        0×21=00×21=0\n",
    "        0×20=00×20=0\n",
    "        总和 = 12\n",
    "\n",
    "    如果我们对 1100 进行右移一位操作，得到 0110：\n",
    "        0×23=00×23=0\n",
    "        1×22=41×22=4\n",
    "        1×21=21×21=2\n",
    "        0×20=00×20=0\n",
    "        总和 = 6\n",
    "\n",
    "通过这个操作，原来的值12变成了6，正好是原值的一半。这就是为什么在二进制表示中，右移一位等同于除以2。\n",
    "\n",
    "`2^n / 2 = 2^(n-1)`"
   ]
  },
  {
   "cell_type": "code",
   "execution_count": 3,
   "id": "d0056760-f456-40a6-8776-1ab6a52b220a",
   "metadata": {},
   "outputs": [],
   "source": [
    "def find_max(arr):\n",
    "    # Base case: If the array has only one element, return that element\n",
    "    if len(arr) == 1:\n",
    "        return arr[0]\n",
    "\n",
    "    # Recursive case: Find the maximum in the rest of the array\n",
    "    max_of_rest = find_max(arr[1:])\n",
    "\n",
    "    # Return the maximum of the first element and the maximum of the rest\n",
    "    return max(arr[0], max_of_rest)\n"
   ]
  },
  {
   "cell_type": "markdown",
   "id": "1006d127-00b3-456c-bba9-3f4a016d631b",
   "metadata": {},
   "source": [
    "Consider an array [3, 1, 4, 2]. Here's how the process works:\n",
    "\n",
    "- We want to find the max of [3, 1, 4, 2]. We compare 3 with the max of [1, 4, 2].\n",
    "- To find the max of [1, 4, 2], we compare 1 with the max of [4, 2].\n",
    "- To find the max of [4, 2], we compare 4 with the max of [2].\n",
    "- The max of [2] is 2 (base case), so now we start comparing back up:\n",
    "    - max(4, 2) = 4, so the max of [4, 2] is 4.\n",
    "    - Then, max(1, 4) = 4, so the max of [1, 4, 2] is 4.\n",
    "    - Finally, max(3, 4) = 4, so the max of [3, 1, 4, 2] is 4."
   ]
  },
  {
   "cell_type": "code",
   "execution_count": 4,
   "id": "91d4fae4-ebcc-47f2-8256-fe75f215432d",
   "metadata": {},
   "outputs": [
    {
     "data": {
      "text/plain": [
       "4"
      ]
     },
     "execution_count": 4,
     "metadata": {},
     "output_type": "execute_result"
    }
   ],
   "source": [
    "find_max([3,1,4,2])"
   ]
  },
  {
   "cell_type": "code",
   "execution_count": 7,
   "id": "2608034a-4f30-4f71-9248-a5aa898d0757",
   "metadata": {},
   "outputs": [],
   "source": [
    "def find_max2(arr, l, r): # 这个符合master公式\n",
    "    if l == r:\n",
    "        return arr[l]\n",
    "    \n",
    "    mid = l + ((r-l)>>1)\n",
    "    lMax = find_max2(arr, l, mid)\n",
    "    rMax = find_max2(arr, mid+1, r)\n",
    "    return max(lMax, rMax)"
   ]
  },
  {
   "cell_type": "code",
   "execution_count": 9,
   "id": "a3bf82e8-a712-49c5-8f3b-06aee8ffe6e5",
   "metadata": {},
   "outputs": [
    {
     "data": {
      "text/plain": [
       "4"
      ]
     },
     "execution_count": 9,
     "metadata": {},
     "output_type": "execute_result"
    }
   ],
   "source": [
    "find_max2([3,1,4,2], 0, 3)"
   ]
  },
  {
   "cell_type": "markdown",
   "id": "1ba1f94b-e3c5-4c64-b508-b902f609033a",
   "metadata": {},
   "source": [
    "## Master 公式"
   ]
  },
  {
   "cell_type": "markdown",
   "id": "182a961d-b27b-4549-a13a-bfe56b39c696",
   "metadata": {},
   "source": [
    "- T(N) = a * T (N/b) + O(N^d)\n",
    "    - T(N) 母问题的数据量是 N 级别\n",
    "    - T (N/b) 所有子问题的规模都是 N/b 级别 （子问题规模是等量的）\n",
    "    - a 子问题调用次数\n",
    "    - O(N^d) 除去子问题调用之外，剩下过程的时间复杂度"
   ]
  },
  {
   "cell_type": "markdown",
   "id": "546fabd1-f8f9-45df-b336-bd97afd355ec",
   "metadata": {
    "tags": []
   },
   "source": [
    "### Master公式：求递归时间复杂度\n",
    "- `find_max2`递归函数符合Master: a = 2, b =2 , d = 0\n",
    "- n 是递归时候**当前的规模**，不需要在乎每一次递归时候实际n的变化"
   ]
  },
  {
   "cell_type": "markdown",
   "id": "f9ea3e16-16c4-4aaf-a663-20ed5c31b57a",
   "metadata": {},
   "source": [
    "# 归并排序 Merge Sort"
   ]
  },
  {
   "cell_type": "markdown",
   "id": "e2218dd9-9512-4bb0-ade2-1a61d0f83369",
   "metadata": {},
   "source": [
    "1. 寻中点\n",
    "2. 左侧有序\n",
    "3. 右侧有序\n",
    "4. 整体整合\n",
    "    - 双指针\n",
    "    - 左侧 <= 右侧： 先拷贝左侧"
   ]
  },
  {
   "cell_type": "code",
   "execution_count": null,
   "id": "a3277fbc-8953-46b3-8897-22b2aa081756",
   "metadata": {},
   "outputs": [],
   "source": [
    "def mergeSort(arr):\n",
    "    "
   ]
  }
 ],
 "metadata": {
  "kernelspec": {
   "display_name": "Python 3 (ipykernel)",
   "language": "python",
   "name": "python3"
  },
  "language_info": {
   "codemirror_mode": {
    "name": "ipython",
    "version": 3
   },
   "file_extension": ".py",
   "mimetype": "text/x-python",
   "name": "python",
   "nbconvert_exporter": "python",
   "pygments_lexer": "ipython3",
   "version": "3.9.13"
  }
 },
 "nbformat": 4,
 "nbformat_minor": 5
}

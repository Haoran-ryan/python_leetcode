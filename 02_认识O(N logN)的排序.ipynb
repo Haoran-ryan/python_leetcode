{
 "cells": [
  {
   "cell_type": "markdown",
   "id": "4b54b964-8b11-4e19-a1ac-f94b26f76f26",
   "metadata": {},
   "source": [
    "# 递归"
   ]
  },
  {
   "cell_type": "markdown",
   "id": "7c866a23-d64f-4416-9978-9ca8f618014c",
   "metadata": {},
   "source": [
    "## 剖析递归行为和时间复杂度"
   ]
  },
  {
   "cell_type": "markdown",
   "id": "7776fd57-4397-445c-b4c5-5387c05394b4",
   "metadata": {},
   "source": [
    "### 用递归求数组中的最大值"
   ]
  },
  {
   "cell_type": "markdown",
   "id": "daddb885-9e51-4797-b87f-f9b4630e3052",
   "metadata": {},
   "source": [
    "- mid = left + (right - left) // 2 \n",
    "- 简化为 mid = L + (R-L) >> 1 *\n",
    "\n",
    "\n",
    "#### 二进制数表示\n",
    "\n",
    "在二进制表示中，每个数字的位置代表一个特定的值，这个值是2的幂。从右向左看，最右边的位代表 `2^0`（即1），下一位代表 `2^1`（即2），再下一位代表 `2^2`（即4），以此类推。\n",
    "\n",
    "例如，二进制数 1011 表示为：\n",
    "\n",
    "    1×23=81×23=8\n",
    "    0×22=00×22=0\n",
    "    1×21=21×21=2\n",
    "    1×20=11×20=1\n",
    "\n",
    "所以 1011 等于 8+0+2+1=118+0+2+1=11。\n",
    "右移操作\n",
    "\n",
    "右移一位操作，意味着将二进制数中的每一位都向右移动一个位置。这会导致最右边的一位被丢弃，而最左边会根据具体的右移类型（逻辑右移或算术右移）添加一位（通常是0）。在数值层面，这个操作相当于将每个位代表的值都减少一半（因为 2n2n 变成 2n−12n−1）。\n",
    "例子\n",
    "\n",
    "举个例子，假设我们有一个二进制数 1100（十进制中的12）：\n",
    "\n",
    "    二进制 1100 表示为：\n",
    "        1×23=81×23=8\n",
    "        1×22=41×22=4\n",
    "        0×21=00×21=0\n",
    "        0×20=00×20=0\n",
    "        总和 = 12\n",
    "\n",
    "    如果我们对 1100 进行右移一位操作，得到 0110：\n",
    "        0×23=00×23=0\n",
    "        1×22=41×22=4\n",
    "        1×21=21×21=2\n",
    "        0×20=00×20=0\n",
    "        总和 = 6\n",
    "\n",
    "通过这个操作，原来的值12变成了6，正好是原值的一半。这就是为什么在二进制表示中，右移一位等同于除以2。\n",
    "\n",
    "`2^n / 2 = 2^(n-1)`"
   ]
  },
  {
   "cell_type": "code",
   "execution_count": 3,
   "id": "d0056760-f456-40a6-8776-1ab6a52b220a",
   "metadata": {},
   "outputs": [],
   "source": [
    "def find_max(arr):\n",
    "    # Base case: If the array has only one element, return that element\n",
    "    if len(arr) == 1:\n",
    "        return arr[0]\n",
    "\n",
    "    # Recursive case: Find the maximum in the rest of the array\n",
    "    max_of_rest = find_max(arr[1:])\n",
    "\n",
    "    # Return the maximum of the first element and the maximum of the rest\n",
    "    return max(arr[0], max_of_rest)\n"
   ]
  },
  {
   "cell_type": "markdown",
   "id": "1006d127-00b3-456c-bba9-3f4a016d631b",
   "metadata": {},
   "source": [
    "Consider an array [3, 1, 4, 2]. Here's how the process works:\n",
    "\n",
    "- We want to find the max of [3, 1, 4, 2]. We compare 3 with the max of [1, 4, 2].\n",
    "- To find the max of [1, 4, 2], we compare 1 with the max of [4, 2].\n",
    "- To find the max of [4, 2], we compare 4 with the max of [2].\n",
    "- The max of [2] is 2 (base case), so now we start comparing back up:\n",
    "    - max(4, 2) = 4, so the max of [4, 2] is 4.\n",
    "    - Then, max(1, 4) = 4, so the max of [1, 4, 2] is 4.\n",
    "    - Finally, max(3, 4) = 4, so the max of [3, 1, 4, 2] is 4."
   ]
  },
  {
   "cell_type": "code",
   "execution_count": 4,
   "id": "91d4fae4-ebcc-47f2-8256-fe75f215432d",
   "metadata": {},
   "outputs": [
    {
     "data": {
      "text/plain": [
       "4"
      ]
     },
     "execution_count": 4,
     "metadata": {},
     "output_type": "execute_result"
    }
   ],
   "source": [
    "find_max([3,1,4,2])"
   ]
  },
  {
   "cell_type": "code",
   "execution_count": 7,
   "id": "2608034a-4f30-4f71-9248-a5aa898d0757",
   "metadata": {},
   "outputs": [],
   "source": [
    "def find_max2(arr, l, r): # 这个符合master公式\n",
    "    if l == r:\n",
    "        return arr[l]\n",
    "    \n",
    "    mid = l + ((r-l)>>1)\n",
    "    lMax = find_max2(arr, l, mid)\n",
    "    rMax = find_max2(arr, mid+1, r)\n",
    "    return max(lMax, rMax)"
   ]
  },
  {
   "cell_type": "code",
   "execution_count": 9,
   "id": "a3bf82e8-a712-49c5-8f3b-06aee8ffe6e5",
   "metadata": {},
   "outputs": [
    {
     "data": {
      "text/plain": [
       "4"
      ]
     },
     "execution_count": 9,
     "metadata": {},
     "output_type": "execute_result"
    }
   ],
   "source": [
    "find_max2([3,1,4,2], 0, 3)"
   ]
  },
  {
   "cell_type": "markdown",
   "id": "1ba1f94b-e3c5-4c64-b508-b902f609033a",
   "metadata": {},
   "source": [
    "## Master 公式"
   ]
  },
  {
   "cell_type": "markdown",
   "id": "182a961d-b27b-4549-a13a-bfe56b39c696",
   "metadata": {},
   "source": [
    "- T(N) = a * T (N/b) + O(N^d)\n",
    "    - T(N) 母问题的数据量是 N 级别\n",
    "    - T (N/b) 所有子问题的规模都是 N/b 级别 （子问题规模是等量的）\n",
    "    - a 子问题调用次数\n",
    "    - O(N^d) 除去子问题调用之外，剩下过程的时间复杂度"
   ]
  },
  {
   "cell_type": "markdown",
   "id": "546fabd1-f8f9-45df-b336-bd97afd355ec",
   "metadata": {
    "tags": []
   },
   "source": [
    "### Master公式：求递归时间复杂度\n",
    "- `find_max2`递归函数符合Master: a = 2, b =2 , d = 0\n",
    "- n 是递归时候**当前的规模**，不需要在乎每一次递归时候实际n的变化"
   ]
  },
  {
   "cell_type": "markdown",
   "id": "f9ea3e16-16c4-4aaf-a663-20ed5c31b57a",
   "metadata": {
    "tags": []
   },
   "source": [
    "# 归并排序 Merge Sort"
   ]
  },
  {
   "cell_type": "markdown",
   "id": "e2218dd9-9512-4bb0-ade2-1a61d0f83369",
   "metadata": {},
   "source": [
    "1. 寻中点\n",
    "2. 左侧有序\n",
    "3. 右侧有序\n",
    "4. 整体整合\n",
    "    - 双指针\n",
    "    - 左侧 <= 右侧： 先拷贝左侧\n",
    "   "
   ]
  },
  {
   "cell_type": "markdown",
   "id": "90a85db1-3c73-47b4-80a6-ccebf309f876",
   "metadata": {},
   "source": [
    "\n",
    "### 归并排序（Merge Sort）笔记\n",
    "\n",
    "**概念**：\n",
    "归并排序是一种高效的排序算法，采用分治法（Divide and Conquer）策略。它通过递归地将列表分成两半，对每半进行排序，然后将排序好的两半合并在一起。\n",
    "\n",
    "**核心步骤**：\n",
    "1. **分解**：将待排序数组分解成两个子数组的过程。\n",
    "2. **合并**：将两个排序好的子数组合并成一个最终的排序数组。\n",
    "\n",
    "**合并操作**：\n",
    "- 使用双指针技术比较两个数组的元素，将较小的元素先添加到结果数组中。\n",
    "- 当其中一个数组的元素全部被选取后，将另一个数组的剩余元素直接追加到结果数组中。\n",
    "\n",
    "**递归逻辑**：\n",
    "- 递归地对数组进行分半处理，直到数组长度小于或等于1（这是基准情况，不需要进一步排序）。\n",
    "- 然后递归地对这些分半后的数组进行排序和合并。\n",
    "\n",
    "**重要概念**：\n",
    "- **基准情况**：递归函数的停止条件，对于归并排序来说，是当处理的数组长度小于或等于1。\n",
    "- **分而治之**：将大问题分解成小问题解决，然后将小问题的解决方案合并起来解决大问题。\n",
    "\n",
    "**代码实现**：\n",
    "\n",
    "```python\n",
    "def merge(left, right):\n",
    "    result = []  # 最终的排序结果列表\n",
    "    i, j = 0, 0  # 初始化两个列表的指针\n",
    "\n",
    "    # 当两个列表都有元素时\n",
    "    while i < len(left) and j < len(right):\n",
    "        if left[i] < right[j]:\n",
    "            result.append(left[i])\n",
    "            i += 1\n",
    "        else:\n",
    "            result.append(right[j])\n",
    "            j += 1\n",
    "\n",
    "    # 将剩余元素追加到结果列表中\n",
    "    result += left[i:]\n",
    "    result += right[j:]\n",
    "\n",
    "    return result\n",
    "\n",
    "\n",
    "def merge_sort(arr):\n",
    "    if len(arr) <= 1:\n",
    "        return arr  # 基准情况，直接返回列表\n",
    "\n",
    "    mid = len(arr) // 2  # 找到中间索引\n",
    "    left = merge_sort(arr[:mid])  # 对左半部分递归排序\n",
    "    right = merge_sort(arr[mid:])  # 对右半部分递归排序\n",
    "\n",
    "    return merge(left, right)  # 合并两个排序好的子列表\n",
    "\n",
    "```\n",
    "\n",
    "**递归过程示例**：\n",
    "以数组 `[38, 27, 43, 3]` 为例，归并排序的过程可以表示为：\n",
    "\n",
    "```\n",
    "          [38, 27, 43, 3]\n",
    "             /       \\\n",
    "       [38, 27]     [43, 3]\n",
    "        /   \\         /   \\\n",
    "     [38]  [27]     [43]  [3]\n",
    "        \\   /         \\   /\n",
    "       [27, 38]     [3, 43]\n",
    "             \\       /\n",
    "          [3, 27, 38, 43]\n",
    "```\n",
    "\n",
    "**理解递归**：\n",
    "在最顶层，每个子数组只有单一元素时，合并操作主要发生在比较这些单一元素并将它们按顺序合并的过程中。这确保了每一步合并都是在构建排序好的子数组，直到最后所有子数组合并成一个完整的排序数组。\n",
    "\n",
    "---\n",
    "\n",
    "希望这份笔记能帮助你更好地理解归并排序的原理和实现。如果你有任何疑问或需要进一步的帮助，请随时提问！"
   ]
  },
  {
   "cell_type": "code",
   "execution_count": 1,
   "id": "68febbd1-8598-493a-88af-cd9c5f0f5597",
   "metadata": {},
   "outputs": [],
   "source": [
    "def merge(left, right):\n",
    "    result = []  # 最终的排序结果列表\n",
    "    i, j = 0, 0  # 初始化两个列表的指针\n",
    "\n",
    "    # 当两个列表都有元素时\n",
    "    while i < len(left) and j < len(right):\n",
    "        if left[i] < right[j]:\n",
    "            result.append(left[i])\n",
    "            i += 1\n",
    "        else:\n",
    "            result.append(right[j])\n",
    "            j += 1\n",
    "\n",
    "    # 将剩余元素追加到结果列表中\n",
    "    result += left[i:]\n",
    "    result += right[j:]\n",
    "\n",
    "    return result\n",
    "\n",
    "\n",
    "def merge_sort(arr):\n",
    "    if len(arr) <= 1:\n",
    "        return arr  # 基准情况，直接返回列表\n",
    "\n",
    "    mid = len(arr) // 2  # 找到中间索引\n",
    "    left = merge_sort(arr[:mid])  # 对左半部分递归排序\n",
    "    right = merge_sort(arr[mid:])  # 对右半部分递归排序\n",
    "\n",
    "    return merge(left, right)  # 合并两个排序好的子列表\n"
   ]
  },
  {
   "cell_type": "markdown",
   "id": "374566f3-7706-4c8f-8dd9-4572b755cd1c",
   "metadata": {},
   "source": [
    "- time: O(N *logN)\n",
    "- space: O(N)"
   ]
  },
  {
   "cell_type": "markdown",
   "id": "41859b56-5426-4655-be91-b53d1f147f37",
   "metadata": {},
   "source": [
    "### 归并排序扩展\n",
    "\n",
    "#### 小和问题\n",
    "- 在一个数组中，每一个左边比当前数小的数累加起来\n",
    "- 如：[1,3,4,2,5] 1左边不存在>1的数字；3左边>3的数字有：1；4左边有：1,3;2左边有：1；5左边有：1,3,4,2\n",
    "- 所以小和等于 `1+1+3+1+1+3+4+2 = 16`"
   ]
  }
 ],
 "metadata": {
  "kernelspec": {
   "display_name": "Python 3 (ipykernel)",
   "language": "python",
   "name": "python3"
  },
  "language_info": {
   "codemirror_mode": {
    "name": "ipython",
    "version": 3
   },
   "file_extension": ".py",
   "mimetype": "text/x-python",
   "name": "python",
   "nbconvert_exporter": "python",
   "pygments_lexer": "ipython3",
   "version": "3.9.13"
  }
 },
 "nbformat": 4,
 "nbformat_minor": 5
}
